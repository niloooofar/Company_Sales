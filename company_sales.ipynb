{
 "cells": [
  {
   "cell_type": "markdown",
   "id": "discrete-picnic",
   "metadata": {},
   "source": [
    "## Introduction"
   ]
  },
  {
   "cell_type": "markdown",
   "id": "instructional-distinction",
   "metadata": {},
   "source": [
    "In this project, we analyze the sales data of the products of the last few years of a company that is an exporter to different countries. This project includes the following 5 steps:\n",
    "\n",
    "<ol>\n",
    "<li>Data preprocessing</li>\n",
    "<li>Exploration</li>\n",
    "<li>Study of target markets</li>\n",
    "<li>Customer evaluation (using rfm analysis)</li>\n",
    "<li>Customer retention analysis</li>\n",
    "</ol>"
   ]
  },
  {
   "cell_type": "markdown",
   "id": "affected-waters",
   "metadata": {},
   "source": [
    "The data explanations are as follows:"
   ]
  },
  {
   "cell_type": "markdown",
   "id": "professional-respect",
   "metadata": {},
   "source": [
    "| Column Name | Column Description       \n",
    "| :- |:-\n",
    "|InvoiceNumber | A 6-digit number that is uniquely assigned to each invoice. If the beginning of this number starts with the letter C, it means that the invoice has been canceled.\n",
    "|ProductCode | A 5-digit number that is uniquely assigned to each type of product.\n",
    "|ProductName | Product Name\n",
    "|Quantity | Number of orders of a product type in the invoice\n",
    "|InvoiceDate | Invoice creation date\n",
    "|UnitPrice | The unit price of a product\n",
    "|CusotmerId | A 5-digit number which is uniquely assigned to each customer.\n",
    "|Country | Name of the customer's country of residence"
   ]
  },
  {
   "cell_type": "markdown",
   "id": "indian-third",
   "metadata": {},
   "source": [
    "## Data Preprocessing"
   ]
  },
  {
   "cell_type": "code",
   "execution_count": 1,
   "id": "soviet-taiwan",
   "metadata": {},
   "outputs": [],
   "source": [
    "import pandas as pd\n",
    "import numpy as np\n",
    "import matplotlib.pyplot as plt\n",
    "import seaborn as sns\n",
    "from datetime import datetime\n",
    "%matplotlib inline"
   ]
  },
  {
   "cell_type": "code",
   "execution_count": 2,
   "id": "according-republic",
   "metadata": {},
   "outputs": [
    {
     "data": {
      "text/html": [
       "<div>\n",
       "<style scoped>\n",
       "    .dataframe tbody tr th:only-of-type {\n",
       "        vertical-align: middle;\n",
       "    }\n",
       "\n",
       "    .dataframe tbody tr th {\n",
       "        vertical-align: top;\n",
       "    }\n",
       "\n",
       "    .dataframe thead th {\n",
       "        text-align: right;\n",
       "    }\n",
       "</style>\n",
       "<table border=\"1\" class=\"dataframe\">\n",
       "  <thead>\n",
       "    <tr style=\"text-align: right;\">\n",
       "      <th></th>\n",
       "      <th>InvoiceNumber</th>\n",
       "      <th>ProductCode</th>\n",
       "      <th>ProductName</th>\n",
       "      <th>Quantity</th>\n",
       "      <th>InvoiceDate</th>\n",
       "      <th>UnitPrice</th>\n",
       "      <th>CustomerId</th>\n",
       "      <th>Country</th>\n",
       "    </tr>\n",
       "  </thead>\n",
       "  <tbody>\n",
       "    <tr>\n",
       "      <th>0</th>\n",
       "      <td>489434</td>\n",
       "      <td>85048</td>\n",
       "      <td>15CM CHRISTMAS GLASS BALL 20 LIGHTS</td>\n",
       "      <td>12</td>\n",
       "      <td>2009-12-01 07:45:00</td>\n",
       "      <td>6.95</td>\n",
       "      <td>13085.0</td>\n",
       "      <td>United Kingdom</td>\n",
       "    </tr>\n",
       "    <tr>\n",
       "      <th>1</th>\n",
       "      <td>489434</td>\n",
       "      <td>79323P</td>\n",
       "      <td>PINK CHERRY LIGHTS</td>\n",
       "      <td>12</td>\n",
       "      <td>2009-12-01 07:45:00</td>\n",
       "      <td>6.75</td>\n",
       "      <td>13085.0</td>\n",
       "      <td>United Kingdom</td>\n",
       "    </tr>\n",
       "    <tr>\n",
       "      <th>2</th>\n",
       "      <td>489434</td>\n",
       "      <td>79323W</td>\n",
       "      <td>WHITE CHERRY LIGHTS</td>\n",
       "      <td>12</td>\n",
       "      <td>2009-12-01 07:45:00</td>\n",
       "      <td>6.75</td>\n",
       "      <td>13085.0</td>\n",
       "      <td>United Kingdom</td>\n",
       "    </tr>\n",
       "    <tr>\n",
       "      <th>3</th>\n",
       "      <td>489434</td>\n",
       "      <td>22041</td>\n",
       "      <td>RECORD FRAME 7\" SINGLE SIZE</td>\n",
       "      <td>48</td>\n",
       "      <td>2009-12-01 07:45:00</td>\n",
       "      <td>2.10</td>\n",
       "      <td>13085.0</td>\n",
       "      <td>United Kingdom</td>\n",
       "    </tr>\n",
       "    <tr>\n",
       "      <th>4</th>\n",
       "      <td>489434</td>\n",
       "      <td>21232</td>\n",
       "      <td>STRAWBERRY CERAMIC TRINKET BOX</td>\n",
       "      <td>24</td>\n",
       "      <td>2009-12-01 07:45:00</td>\n",
       "      <td>1.25</td>\n",
       "      <td>13085.0</td>\n",
       "      <td>United Kingdom</td>\n",
       "    </tr>\n",
       "  </tbody>\n",
       "</table>\n",
       "</div>"
      ],
      "text/plain": [
       "  InvoiceNumber ProductCode                          ProductName  Quantity  \\\n",
       "0        489434       85048  15CM CHRISTMAS GLASS BALL 20 LIGHTS        12   \n",
       "1        489434      79323P                   PINK CHERRY LIGHTS        12   \n",
       "2        489434      79323W                  WHITE CHERRY LIGHTS        12   \n",
       "3        489434       22041         RECORD FRAME 7\" SINGLE SIZE         48   \n",
       "4        489434       21232       STRAWBERRY CERAMIC TRINKET BOX        24   \n",
       "\n",
       "          InvoiceDate  UnitPrice  CustomerId         Country  \n",
       "0 2009-12-01 07:45:00       6.95     13085.0  United Kingdom  \n",
       "1 2009-12-01 07:45:00       6.75     13085.0  United Kingdom  \n",
       "2 2009-12-01 07:45:00       6.75     13085.0  United Kingdom  \n",
       "3 2009-12-01 07:45:00       2.10     13085.0  United Kingdom  \n",
       "4 2009-12-01 07:45:00       1.25     13085.0  United Kingdom  "
      ]
     },
     "execution_count": 2,
     "metadata": {},
     "output_type": "execute_result"
    }
   ],
   "source": [
    "sales_df = pd.read_excel('sales.xlsx', parse_dates=[4])\n",
    "sales_df.head()"
   ]
  },
  {
   "cell_type": "code",
   "execution_count": 3,
   "id": "general-twist",
   "metadata": {},
   "outputs": [],
   "source": [
    "df_no_missing_CustomerId = sales_df.dropna(subset=['CustomerId'])"
   ]
  },
  {
   "cell_type": "code",
   "execution_count": 4,
   "id": "excellent-soundtrack",
   "metadata": {},
   "outputs": [],
   "source": [
    "df_no_duplicate = df_no_missing_CustomerId.drop_duplicates()"
   ]
  },
  {
   "cell_type": "code",
   "execution_count": 5,
   "id": "vulnerable-bonus",
   "metadata": {},
   "outputs": [],
   "source": [
    "df_no_missing_price = df_no_duplicate[ df_no_duplicate.UnitPrice > 0 ].copy()"
   ]
  },
  {
   "cell_type": "markdown",
   "id": "incredible-bhutan",
   "metadata": {},
   "source": [
    "## Exploration"
   ]
  },
  {
   "cell_type": "markdown",
   "id": "disabled-university",
   "metadata": {},
   "source": [
    "#### Percentage of canceled orders:\n",
    "Because an order may contain more than one product, some order IDs are repeated multiple times. To calculate the percentage of canceled orders, we must consider each order only once."
   ]
  },
  {
   "cell_type": "code",
   "execution_count": 6,
   "id": "strange-mention",
   "metadata": {},
   "outputs": [
    {
     "name": "stdout",
     "output_type": "stream",
     "text": [
      "percent of cancelled orders is almost 19%\n"
     ]
    }
   ],
   "source": [
    "# calculate the percentage of cancelled orderes\n",
    "\n",
    "df_no_missing_price['is_canceled'] = df_no_missing_price.InvoiceNumber.str.startswith('C', na=False)\n",
    "\n",
    "percentage_cancelled_orders = round(100 *\\\n",
    "                    df_no_missing_price [df_no_missing_price.is_canceled==True].InvoiceNumber.nunique()/\\\n",
    "                    df_no_missing_price.InvoiceNumber.nunique())\n",
    "print('percent of cancelled orders is almost {}%'.format(percentage_cancelled_orders))"
   ]
  },
  {
   "cell_type": "markdown",
   "id": "excess-intensity",
   "metadata": {},
   "source": [
    "#### ID of 5 customers with the most canceled orders:"
   ]
  },
  {
   "cell_type": "code",
   "execution_count": 7,
   "id": "recognized-joseph",
   "metadata": {},
   "outputs": [
    {
     "data": {
      "text/html": [
       "<div>\n",
       "<style scoped>\n",
       "    .dataframe tbody tr th:only-of-type {\n",
       "        vertical-align: middle;\n",
       "    }\n",
       "\n",
       "    .dataframe tbody tr th {\n",
       "        vertical-align: top;\n",
       "    }\n",
       "\n",
       "    .dataframe thead th {\n",
       "        text-align: right;\n",
       "    }\n",
       "</style>\n",
       "<table border=\"1\" class=\"dataframe\">\n",
       "  <thead>\n",
       "    <tr style=\"text-align: right;\">\n",
       "      <th></th>\n",
       "      <th>CustomerId</th>\n",
       "      <th>is_canceled</th>\n",
       "    </tr>\n",
       "  </thead>\n",
       "  <tbody>\n",
       "    <tr>\n",
       "      <th>2163</th>\n",
       "      <td>15311</td>\n",
       "      <td>171</td>\n",
       "    </tr>\n",
       "    <tr>\n",
       "      <th>1867</th>\n",
       "      <td>14911</td>\n",
       "      <td>139</td>\n",
       "    </tr>\n",
       "    <tr>\n",
       "      <th>3805</th>\n",
       "      <td>17511</td>\n",
       "      <td>110</td>\n",
       "    </tr>\n",
       "    <tr>\n",
       "      <th>1688</th>\n",
       "      <td>14680</td>\n",
       "      <td>103</td>\n",
       "    </tr>\n",
       "    <tr>\n",
       "      <th>1039</th>\n",
       "      <td>13798</td>\n",
       "      <td>102</td>\n",
       "    </tr>\n",
       "  </tbody>\n",
       "</table>\n",
       "</div>"
      ],
      "text/plain": [
       "     CustomerId  is_canceled\n",
       "2163      15311          171\n",
       "1867      14911          139\n",
       "3805      17511          110\n",
       "1688      14680          103\n",
       "1039      13798          102"
      ]
     },
     "execution_count": 7,
     "metadata": {},
     "output_type": "execute_result"
    }
   ],
   "source": [
    "# change customer id to string\n",
    "df_no_missing_price.CustomerId = df_no_missing_price.CustomerId.astype('int')\n",
    "df_no_missing_price.CustomerId = df_no_missing_price.CustomerId.astype('str')\n",
    "\n",
    "# calculate the top 5 cancelling customers\n",
    "group = df_no_missing_price.groupby('CustomerId').is_canceled.sum().reset_index()\\\n",
    "        .sort_values(by='is_canceled', ascending=False)\n",
    "group.head()"
   ]
  },
  {
   "cell_type": "code",
   "execution_count": 8,
   "id": "mighty-movement",
   "metadata": {},
   "outputs": [
    {
     "name": "stdout",
     "output_type": "stream",
     "text": [
      "top cancelling customers id:  ['15311' '14911' '17511' '14680' '13798']\n"
     ]
    }
   ],
   "source": [
    "top_cancelling_customers = group.CustomerId.values[:5]\n",
    "print('top cancelling customers id: ', top_cancelling_customers)"
   ]
  },
  {
   "cell_type": "markdown",
   "id": "comic-culture",
   "metadata": {},
   "source": [
    "Finally, we remove the rows related to canceled orders."
   ]
  },
  {
   "cell_type": "code",
   "execution_count": 9,
   "id": "amended-variation",
   "metadata": {},
   "outputs": [],
   "source": [
    "# remove the cancelled orderes\n",
    "df = df_no_missing_price[df_no_missing_price.is_canceled==False].copy()"
   ]
  },
  {
   "cell_type": "code",
   "execution_count": 10,
   "id": "hindu-greece",
   "metadata": {},
   "outputs": [],
   "source": [
    "df.drop(columns=['is_canceled'], inplace=True)"
   ]
  },
  {
   "cell_type": "code",
   "execution_count": 11,
   "id": "auburn-final",
   "metadata": {},
   "outputs": [
    {
     "name": "stdout",
     "output_type": "stream",
     "text": [
      "Number of orders :19213\n"
     ]
    }
   ],
   "source": [
    "# calculate the number of remaining orders\n",
    "number_of_orders = df.InvoiceNumber.nunique()\n",
    "print('Number of orders :{}'.format(number_of_orders))"
   ]
  },
  {
   "cell_type": "code",
   "execution_count": 12,
   "id": "internal-revision",
   "metadata": {},
   "outputs": [
    {
     "name": "stdout",
     "output_type": "stream",
     "text": [
      "Orders was place from 2009-12-01 07:45:00 to 2010-12-09 20:01:00\n"
     ]
    }
   ],
   "source": [
    "# calculate the time period window\n",
    "window_period = (str(df.InvoiceDate.min()), str(df.InvoiceDate.max()))\n",
    "print('Orders was place from {} to {}'.format(window_period[0],window_period[1]))"
   ]
  },
  {
   "cell_type": "markdown",
   "id": "opened-sender",
   "metadata": {},
   "source": [
    "#### Number of invoices per week days:"
   ]
  },
  {
   "cell_type": "code",
   "execution_count": 13,
   "id": "eleven-sharp",
   "metadata": {},
   "outputs": [
    {
     "data": {
      "image/png": "[encoded data removed]",
      "text/plain": [
       "<Figure size 1080x432 with 1 Axes>"
      ]
     },
     "metadata": {
      "needs_background": "light"
     },
     "output_type": "display_data"
    }
   ],
   "source": [
    "# plot the number of orders per week day\n",
    "\n",
    "df['week_day'] = df.InvoiceDate.dt.weekday\n",
    "week_day_group = df.groupby('week_day').InvoiceNumber.nunique().reset_index(name='order_counts')\n",
    "\n",
    "fig , ax = plt.subplots(figsize=(15, 6))\n",
    "labels = ['Mon', 'Tue', 'Wed', 'Thur', 'Fri', 'Sat', 'Sun']\n",
    "\n",
    "ax.bar(range(len(labels)), week_day_group.order_counts, color = 'lime')\n",
    "\n",
    "ax.set_xticks(range(len(labels)))\n",
    "ax.set_xticklabels(labels, fontsize=15)\n",
    "\n",
    "ax.set_xlabel('Day', color='lightseagreen', fontsize=15)\n",
    "ax.set_ylabel('Number of Orders', color='lightseagreen', fontsize=15)\n",
    "ax.set_title('Number of orders for different Days', fontsize=15, color='green');"
   ]
  },
  {
   "cell_type": "markdown",
   "id": "leading-chick",
   "metadata": {},
   "source": [
    "#### Total sales per month:\n",
    "\n",
    "We plot the total sales per month in a bar chart. First, we need to calculate the total cost received for each invoice."
   ]
  },
  {
   "cell_type": "code",
   "execution_count": 14,
   "id": "accessory-april",
   "metadata": {},
   "outputs": [
    {
     "data": {
      "text/html": [
       "<div>\n",
       "<style scoped>\n",
       "    .dataframe tbody tr th:only-of-type {\n",
       "        vertical-align: middle;\n",
       "    }\n",
       "\n",
       "    .dataframe tbody tr th {\n",
       "        vertical-align: top;\n",
       "    }\n",
       "\n",
       "    .dataframe thead th {\n",
       "        text-align: right;\n",
       "    }\n",
       "</style>\n",
       "<table border=\"1\" class=\"dataframe\">\n",
       "  <thead>\n",
       "    <tr style=\"text-align: right;\">\n",
       "      <th></th>\n",
       "      <th>month_year</th>\n",
       "      <th>price</th>\n",
       "    </tr>\n",
       "  </thead>\n",
       "  <tbody>\n",
       "    <tr>\n",
       "      <th>0</th>\n",
       "      <td>Apr_2010</td>\n",
       "      <td>591982.002</td>\n",
       "    </tr>\n",
       "    <tr>\n",
       "      <th>1</th>\n",
       "      <td>Aug_2010</td>\n",
       "      <td>602224.600</td>\n",
       "    </tr>\n",
       "    <tr>\n",
       "      <th>2</th>\n",
       "      <td>Dec_2009</td>\n",
       "      <td>683504.010</td>\n",
       "    </tr>\n",
       "    <tr>\n",
       "      <th>3</th>\n",
       "      <td>Dec_2010</td>\n",
       "      <td>310656.370</td>\n",
       "    </tr>\n",
       "    <tr>\n",
       "      <th>4</th>\n",
       "      <td>Feb_2010</td>\n",
       "      <td>504558.956</td>\n",
       "    </tr>\n",
       "  </tbody>\n",
       "</table>\n",
       "</div>"
      ],
      "text/plain": [
       "  month_year       price\n",
       "0   Apr_2010  591982.002\n",
       "1   Aug_2010  602224.600\n",
       "2   Dec_2009  683504.010\n",
       "3   Dec_2010  310656.370\n",
       "4   Feb_2010  504558.956"
      ]
     },
     "execution_count": 14,
     "metadata": {},
     "output_type": "execute_result"
    }
   ],
   "source": [
    "import datetime\n",
    "\n",
    "def get_month_year(arr):\n",
    "    return arr.strftime('%b') + '_' + str(arr.year)\n",
    "\n",
    "df['price'] = df.Quantity * df.UnitPrice\n",
    "\n",
    "df['month_year'] = df.InvoiceDate.apply(get_month_year)\n",
    "month_year_group = df.groupby('month_year').price.sum().reset_index()\n",
    "month_year_group.head()"
   ]
  },
  {
   "cell_type": "code",
   "execution_count": 15,
   "id": "afraid-kentucky",
   "metadata": {},
   "outputs": [
    {
     "data": {
      "text/html": [
       "<div>\n",
       "<style scoped>\n",
       "    .dataframe tbody tr th:only-of-type {\n",
       "        vertical-align: middle;\n",
       "    }\n",
       "\n",
       "    .dataframe tbody tr th {\n",
       "        vertical-align: top;\n",
       "    }\n",
       "\n",
       "    .dataframe thead th {\n",
       "        text-align: right;\n",
       "    }\n",
       "</style>\n",
       "<table border=\"1\" class=\"dataframe\">\n",
       "  <thead>\n",
       "    <tr style=\"text-align: right;\">\n",
       "      <th></th>\n",
       "      <th>month_year</th>\n",
       "      <th>price</th>\n",
       "      <th>year</th>\n",
       "      <th>month</th>\n",
       "    </tr>\n",
       "  </thead>\n",
       "  <tbody>\n",
       "    <tr>\n",
       "      <th>2</th>\n",
       "      <td>Dec_2009</td>\n",
       "      <td>683504.010</td>\n",
       "      <td>2009</td>\n",
       "      <td>12</td>\n",
       "    </tr>\n",
       "    <tr>\n",
       "      <th>5</th>\n",
       "      <td>Jan_2010</td>\n",
       "      <td>555802.672</td>\n",
       "      <td>2010</td>\n",
       "      <td>1</td>\n",
       "    </tr>\n",
       "    <tr>\n",
       "      <th>4</th>\n",
       "      <td>Feb_2010</td>\n",
       "      <td>504558.956</td>\n",
       "      <td>2010</td>\n",
       "      <td>2</td>\n",
       "    </tr>\n",
       "    <tr>\n",
       "      <th>8</th>\n",
       "      <td>Mar_2010</td>\n",
       "      <td>696978.471</td>\n",
       "      <td>2010</td>\n",
       "      <td>3</td>\n",
       "    </tr>\n",
       "    <tr>\n",
       "      <th>0</th>\n",
       "      <td>Apr_2010</td>\n",
       "      <td>591982.002</td>\n",
       "      <td>2010</td>\n",
       "      <td>4</td>\n",
       "    </tr>\n",
       "  </tbody>\n",
       "</table>\n",
       "</div>"
      ],
      "text/plain": [
       "  month_year       price  year  month\n",
       "2   Dec_2009  683504.010  2009     12\n",
       "5   Jan_2010  555802.672  2010      1\n",
       "4   Feb_2010  504558.956  2010      2\n",
       "8   Mar_2010  696978.471  2010      3\n",
       "0   Apr_2010  591982.002  2010      4"
      ]
     },
     "execution_count": 15,
     "metadata": {},
     "output_type": "execute_result"
    }
   ],
   "source": [
    "month_year_group['year'] = month_year_group['month_year'].str.split('_', expand=True)[1].astype(int)\n",
    "month_year_group['month'] = month_year_group['month_year'].str.split('_', expand=True)[0]\n",
    "\n",
    "month_year_group['month'] = month_year_group['month'].apply(lambda x:  datetime.datetime.strptime(x, '%b').month)\n",
    "month_year_group.sort_values(['year', 'month'], inplace=True)\n",
    "month_year_group.head()"
   ]
  },
  {
   "cell_type": "code",
   "execution_count": 16,
   "id": "international-anime",
   "metadata": {
    "scrolled": true
   },
   "outputs": [
    {
     "data": {
      "image/png": "[encoded data removed]",
      "text/plain": [
       "<Figure size 1080x432 with 1 Axes>"
      ]
     },
     "metadata": {
      "needs_background": "light"
     },
     "output_type": "display_data"
    }
   ],
   "source": [
    "fig , ax = plt.subplots(figsize=(15, 6))\n",
    "ax.bar(month_year_group.month_year, month_year_group.price, color='darkkhaki')\n",
    "ax.set_xticks(range(month_year_group.month_year.nunique()))\n",
    "labels = month_year_group.month_year.unique().tolist()\n",
    "\n",
    "ax.set_xticklabels(labels, rotation=45, fontsize=13)\n",
    "ax.set_xlabel('Month', color = 'orange', fontsize=15)\n",
    "ax.set_ylabel('Sales amount', color = 'orange', fontsize=15)\n",
    "ax.set_title('Number of orders for different Months', color = 'cadetblue', fontsize=15);"
   ]
  },
  {
   "cell_type": "markdown",
   "id": "native-montana",
   "metadata": {},
   "source": [
    "## Study of target markets"
   ]
  },
  {
   "cell_type": "markdown",
   "id": "geographic-recipe",
   "metadata": {},
   "source": [
    "#### Scatter plot of sales and number of customers in each country:\n",
    "\n",
    "In this section, we show different countries on a scatter plot to see their sales and number of customers. As shown below, countries are divided into four groups according to sales amount and number of customers.<br/>\n",
    "Using the third quarter of both criteria, we are faced with 4 groups of countries. If we show the sales amount as SA and the third quarter as qSA, the number of customers as CC and the third quarter with qCC, the four groups of countries are defined as follows:\n",
    "\n",
    "<ol>\n",
    "    <li>Countries where SA &lt; qSA and CC &lt; qCC </li>\n",
    "    <li>Countries where SA &lt; qSA and CC > qCC </li>\n",
    "    <li>Countries where SA > qSA and CC &lt; qCC </li>\n",
    "    <li>Countries where SA > qSA and CC > qCC </li>\n",
    "</ol>"
   ]
  },
  {
   "cell_type": "markdown",
   "id": "biblical-mexico",
   "metadata": {},
   "source": [
    "To plot, we do the following steps:\n",
    "<ul>\n",
    "    <li>First we delete orders related to United Kingdom </li>\n",
    "    <li>For each country, we calculate the number of customers and the amount of sales. </li>\n",
    "    <li>We calculate the third quarter of sales and number of customers. </li>\n",
    "    <li>Using the above description, we divide the countries into four groups. </li>\n",
    "</ul>"
   ]
  },
  {
   "cell_type": "markdown",
   "id": "split-claim",
   "metadata": {},
   "source": [
    "Finally, we show 4 countries of France, Spain and the Netherlands on the map."
   ]
  },
  {
   "cell_type": "code",
   "execution_count": 17,
   "id": "threaded-equality",
   "metadata": {},
   "outputs": [],
   "source": [
    "# prepare the dataframe\n",
    "\n",
    "df = df.drop( df[df.Country == \"United Kingdom\"].index )\n",
    "df['price'] = df.Quantity * df.UnitPrice\n",
    "country_sale_amount = df.groupby('Country').price.sum().reset_index(name = 'SA')\n",
    "country_sale_count = df.groupby('Country').CustomerId.nunique().reset_index(name = 'CC')\n",
    "country_df = country_sale_amount.merge(country_sale_count)\n",
    "\n",
    "qSA = np.quantile(country_sale_amount.SA, 0.75)\n",
    "qCC = np.quantile(country_sale_count.CC, 0.75)\n",
    "\n",
    "group1 = country_df[ (country_df.SA < qSA) & (country_df.CC < qCC)]\n",
    "group2 = country_df[ (country_df.SA < qSA) & (country_df.CC > qCC)]\n",
    "group3 = country_df[ (country_df.SA > qSA) & (country_df.CC < qCC)]\n",
    "group4 = country_df[ (country_df.SA > qSA) & (country_df.CC > qCC)]"
   ]
  },
  {
   "cell_type": "code",
   "execution_count": 18,
   "id": "whole-johnson",
   "metadata": {
    "scrolled": false
   },
   "outputs": [
    {
     "data": {
      "image/png": "[encoded data removed]",
      "text/plain": [
       "<Figure size 576x576 with 1 Axes>"
      ]
     },
     "metadata": {},
     "output_type": "display_data"
    }
   ],
   "source": [
    "# plot\n",
    "\n",
    "plt.style.use('fivethirtyeight')\n",
    "\n",
    "fig, ax = plt.subplots(figsize=(8, 8))\n",
    "plt.scatter(group4.SA, group4.CC, color = 'red', s=20, label = 'Highest customer & revenue')\n",
    "plt.scatter(group2.SA, group2.CC, color = 'blue', s=20, label = 'High customer & low revenue')\n",
    "plt.scatter(group3.SA, group3.CC, color = 'green', s=20, label = 'High revenue & low customer')\n",
    "plt.scatter(group1.SA, group1.CC, color = 'cyan', s=20, label = 'Low customer & revenue')\n",
    "ax.set_xlabel('Sales amount', fontsize = 16)\n",
    "plt.xticks(fontsize = 16)\n",
    "plt.yticks(fontsize = 16)\n",
    "\n",
    "ax.set_ylabel('Number of customers', fontsize = 16)\n",
    "ax.set_title('Market Study', fontsize = 18)\n",
    "\n",
    "plt.legend(title = 'Group', frameon=True, title_fontsize = 16, fontsize = 14 ,facecolor = 'silver'  )\n",
    "\n",
    "Netherlands_x, Netherlands_y = country_df[country_df.Country == \"Netherlands\"].SA , country_df[country_df.Country == 'Netherlands'].CC + 0.5\n",
    "France_x, France_y = country_df[country_df.Country == \"France\"].SA , country_df[country_df.Country == 'France'].CC + 0.5\n",
    "Spain_x, Spain_y = country_df[country_df.Country == \"Spain\"].SA , country_df[country_df.Country == 'Spain'].CC + 0.5\n",
    "\n",
    "ax.text(Netherlands_x, Netherlands_y, 'Netherlands', fontsize = 15 )\n",
    "ax.text(France_x, France_y, 'France',fontsize = 15 )\n",
    "ax.text(Spain_x, Spain_y , 'Spain', fontsize = 15);"
   ]
  },
  {
   "cell_type": "markdown",
   "id": "warming-contractor",
   "metadata": {},
   "source": [
    "## Customers Valuation "
   ]
  },
  {
   "cell_type": "markdown",
   "id": "another-internet",
   "metadata": {},
   "source": [
    "We use a famous method of customer behavior analysis called RFM to group our customers based on their value to the company. According to this method, the following three criteria are considered for each customer:\n",
    "\n",
    "<ul>\n",
    "    <li>Recency : The number of days that passed since the last purchase of the customer.</li>\n",
    "    <li>Frequency : The number of times a customer has purchased from us.</li>\n",
    "    <li>Monetary : The total income the company has from a customer.</li>\n",
    "</ul>"
   ]
  },
  {
   "cell_type": "markdown",
   "id": "tender-reporter",
   "metadata": {},
   "source": [
    "These criteria represent important indicators in customer behavior. For example, the newer the purchase, the more likely the customer is to buy again. The more times a customer buys, the more satisfied the customer is, and the amount of revenue a customer generates for a company can differentiate him or her from other buyers.<br/>\n",
    "\n",
    "First, we calculate these three criteria for each customer. To calculate Recency, we count the number of days before one day after the last day in the data (assuming we are doing this step on that day).<br/>\n",
    "\n",
    "\n",
    "After calculating these three criteria, the value of each criterion is divided into 4 groups based on the first, second and third quarters as follows:\n",
    "\n",
    "<br/>\n",
    "\n",
    "<div>\n",
    "    <ul>\n",
    "        <li><b>Group1</b>: value <= Q1</li>\n",
    "        <li><b>Group2</b>: Q1 &lt; value <= Q2</li>\n",
    "        <li><b>Group3</b>: Q2 &lt; value <= Q3</li>\n",
    "        <li><b>Group4</b>: Q3 &lt; value</li>\n",
    "    </ul>\n",
    "</div>\n",
    "\n",
    "<br/>\n",
    "Using these three criteria, the value of each customer (RFM criterion) is calculated by putting together the Recency-Frequency-Monetary value groups."
   ]
  },
  {
   "cell_type": "markdown",
   "id": "native-outreach",
   "metadata": {},
   "source": [
    "| CustomerID | Recency | Frequency | Monetary value| R_quartile      | F_quartile      | M_quartile      | RFM    |\n",
    "| ---------- | ------- | --------- | -------- | ------ | ------ | ------ | ------ |\n",
    "| 12346      | 325     | 1         | 77183.60 | 1      | 1      | 4      | 114    |\n",
    "| 12347      | 2       | 182       | 4310.00  | 4      | 4      | 4      | 444    |\n",
    "| 12348      | 75      | 31        | 1797.24  | 2      | 2      | 4      | 224    |"
   ]
  },
  {
   "cell_type": "markdown",
   "id": "younger-bikini",
   "metadata": {},
   "source": [
    "For example, a customer with ID 12346 had a Recency of 325. The number 325 was less than or equal to the first quarter of the Recents. Therefore, for the Recency of this customer, we consider the number 1. For the other two values (Frequency and Monetary value) we follow the above to get their group. Now we put the group numbers of all three criteria together to create the RFM criterion. Now, we can group each customer according to the table below based on the RFM value."
   ]
  },
  {
   "cell_type": "markdown",
   "id": "partial-threat",
   "metadata": {},
   "source": [
    "| Segment | RFM |\n",
    "|:-------------:|:------|\n",
    "| Best | 144 |\n",
    "| AlmostLost | 344 |  \n",
    "| LostBigSpenders | 444  | \n",
    "| LostCheap | 441 |\n",
    "| Loyal | X4X | \n",
    "| BigSpenders | XX4 | "
   ]
  },
  {
   "cell_type": "markdown",
   "id": "planned-wisdom",
   "metadata": {},
   "source": [
    "A value of X means any valid value. For example, 14X includes groups 141, 142, 143, 144. Also, if an RFM can be placed in two groups of the table, priority is given to the group that is listed first (above) in the table. If a customer is not in any of the groups in the table, we declare his group Normal. So for each customer, the marketing team can adopt a strategy tailored to the group they belong to. "
   ]
  },
  {
   "cell_type": "markdown",
   "id": "numerical-climate",
   "metadata": {},
   "source": [
    "#### Calculate RFM value and segment for each customer: "
   ]
  },
  {
   "cell_type": "code",
   "execution_count": 19,
   "id": "static-dakota",
   "metadata": {},
   "outputs": [],
   "source": [
    "from rfm.rfm import RFM\n",
    "\n",
    "df['amount'] = df['Quantity'] * df['UnitPrice']\n",
    "rfm = RFM(df, customer_id='CustomerId', transaction_date='InvoiceDate', amount='amount', automated=True)"
   ]
  },
  {
   "cell_type": "code",
   "execution_count": 20,
   "id": "focused-privilege",
   "metadata": {},
   "outputs": [
    {
     "data": {
      "text/html": [
       "<div>\n",
       "<style scoped>\n",
       "    .dataframe tbody tr th:only-of-type {\n",
       "        vertical-align: middle;\n",
       "    }\n",
       "\n",
       "    .dataframe tbody tr th {\n",
       "        vertical-align: top;\n",
       "    }\n",
       "\n",
       "    .dataframe thead th {\n",
       "        text-align: right;\n",
       "    }\n",
       "</style>\n",
       "<table border=\"1\" class=\"dataframe\">\n",
       "  <thead>\n",
       "    <tr style=\"text-align: right;\">\n",
       "      <th></th>\n",
       "      <th>CustomerId</th>\n",
       "      <th>RFM</th>\n",
       "      <th>segment</th>\n",
       "    </tr>\n",
       "  </thead>\n",
       "  <tbody>\n",
       "    <tr>\n",
       "      <th>0</th>\n",
       "      <td>12347</td>\n",
       "      <td>111</td>\n",
       "      <td>Normal</td>\n",
       "    </tr>\n",
       "    <tr>\n",
       "      <th>1</th>\n",
       "      <td>12348</td>\n",
       "      <td>331</td>\n",
       "      <td>Normal</td>\n",
       "    </tr>\n",
       "    <tr>\n",
       "      <th>2</th>\n",
       "      <td>12349</td>\n",
       "      <td>221</td>\n",
       "      <td>Normal</td>\n",
       "    </tr>\n",
       "    <tr>\n",
       "      <th>3</th>\n",
       "      <td>12351</td>\n",
       "      <td>111</td>\n",
       "      <td>Normal</td>\n",
       "    </tr>\n",
       "    <tr>\n",
       "      <th>4</th>\n",
       "      <td>12352</td>\n",
       "      <td>111</td>\n",
       "      <td>Normal</td>\n",
       "    </tr>\n",
       "    <tr>\n",
       "      <th>...</th>\n",
       "      <td>...</td>\n",
       "      <td>...</td>\n",
       "      <td>...</td>\n",
       "    </tr>\n",
       "    <tr>\n",
       "      <th>339</th>\n",
       "      <td>17097</td>\n",
       "      <td>111</td>\n",
       "      <td>Normal</td>\n",
       "    </tr>\n",
       "    <tr>\n",
       "      <th>340</th>\n",
       "      <td>17404</td>\n",
       "      <td>221</td>\n",
       "      <td>Normal</td>\n",
       "    </tr>\n",
       "    <tr>\n",
       "      <th>341</th>\n",
       "      <td>17508</td>\n",
       "      <td>111</td>\n",
       "      <td>Normal</td>\n",
       "    </tr>\n",
       "    <tr>\n",
       "      <th>342</th>\n",
       "      <td>17829</td>\n",
       "      <td>221</td>\n",
       "      <td>Normal</td>\n",
       "    </tr>\n",
       "    <tr>\n",
       "      <th>343</th>\n",
       "      <td>18140</td>\n",
       "      <td>341</td>\n",
       "      <td>Loyal</td>\n",
       "    </tr>\n",
       "  </tbody>\n",
       "</table>\n",
       "<p>344 rows × 3 columns</p>\n",
       "</div>"
      ],
      "text/plain": [
       "    CustomerId  RFM segment\n",
       "0        12347  111  Normal\n",
       "1        12348  331  Normal\n",
       "2        12349  221  Normal\n",
       "3        12351  111  Normal\n",
       "4        12352  111  Normal\n",
       "..         ...  ...     ...\n",
       "339      17097  111  Normal\n",
       "340      17404  221  Normal\n",
       "341      17508  111  Normal\n",
       "342      17829  221  Normal\n",
       "343      18140  341   Loyal\n",
       "\n",
       "[344 rows x 3 columns]"
      ]
     },
     "execution_count": 20,
     "metadata": {},
     "output_type": "execute_result"
    }
   ],
   "source": [
    "rfm.get_rfm_table()"
   ]
  },
  {
   "cell_type": "markdown",
   "id": "colonial-ivory",
   "metadata": {},
   "source": [
    "#### Plot segment distribution of customers"
   ]
  },
  {
   "cell_type": "code",
   "execution_count": 21,
   "id": "accompanied-hindu",
   "metadata": {
    "scrolled": false
   },
   "outputs": [
    {
     "data": {
      "image/png": "[encoded data removed]",
      "text/plain": [
       "<Figure size 288x288 with 1 Axes>"
      ]
     },
     "metadata": {},
     "output_type": "display_data"
    }
   ],
   "source": [
    "rfm.plot_segment_pie()"
   ]
  },
  {
   "cell_type": "markdown",
   "id": "powerful-advancement",
   "metadata": {},
   "source": [
    "#### Find id of Loyal customers"
   ]
  },
  {
   "cell_type": "code",
   "execution_count": 22,
   "id": "different-laugh",
   "metadata": {},
   "outputs": [
    {
     "data": {
      "text/plain": [
       "array(['12380', '12391', '12410', '12484', '12519', '12525', '12527',\n",
       "       '12542', '12547', '12595', '12687', '12737', '12765', '12771',\n",
       "       '12800', '12801', '12804', '12813', '12866', '13501', '14265',\n",
       "       '14930', '15480', '15702', '18140'], dtype=object)"
      ]
     },
     "execution_count": 22,
     "metadata": {},
     "output_type": "execute_result"
    }
   ],
   "source": [
    "rfm.find_customers('Loyal')"
   ]
  },
  {
   "cell_type": "markdown",
   "id": "adopted-agriculture",
   "metadata": {},
   "source": [
    "## Customer Retention Analysis"
   ]
  },
  {
   "cell_type": "markdown",
   "id": "exotic-monster",
   "metadata": {},
   "source": [
    "To attract a new customer to the company, the marketing team needs to use different methods of advertisement and communication with customers, which is costly. As a result, they are more willing to retain their current customers as much as possible.\n",
    "\n",
    "We plot a customer retention chart. In this chart, the vertical axis indicates the month that a customer first traded with the company, and the horizontal axis shows what percentage of new customers remain a customer in the months following the first transaction.\n",
    "\n",
    "\n",
    "As we can see, in the first month, a number of new customers had their first transaction with the company, of which 37% of them traded with the company at least once in the next month and in the next two month 41% of them had at least one factor."
   ]
  },
  {
   "cell_type": "code",
   "execution_count": 23,
   "id": "settled-justice",
   "metadata": {},
   "outputs": [],
   "source": [
    "from transaction.transaction import Transaction"
   ]
  },
  {
   "cell_type": "code",
   "execution_count": 24,
   "id": "frequent-invite",
   "metadata": {
    "scrolled": false
   },
   "outputs": [
    {
     "data": {
      "image/png": "[encoded data removed]",
      "text/plain": [
       "<Figure size 648x504 with 2 Axes>"
      ]
     },
     "metadata": {},
     "output_type": "display_data"
    }
   ],
   "source": [
    "transaction = Transaction(df, customer_id='CustomerId', transaction_date='InvoiceDate', automated=True)"
   ]
  },
  {
   "cell_type": "code",
   "execution_count": null,
   "id": "pursuant-contrast",
   "metadata": {},
   "outputs": [],
   "source": []
  },
  {
   "cell_type": "code",
   "execution_count": null,
   "id": "exposed-diagram",
   "metadata": {},
   "outputs": [],
   "source": []
  }
 ],
 "metadata": {
  "kernelspec": {
   "display_name": "Python 3",
   "language": "python",
   "name": "python3"
  },
  "language_info": {
   "codemirror_mode": {
    "name": "ipython",
    "version": 3
   },
   "file_extension": ".py",
   "mimetype": "text/x-python",
   "name": "python",
   "nbconvert_exporter": "python",
   "pygments_lexer": "ipython3",
   "version": "3.9.1"
  }
 },
 "nbformat": 4,
 "nbformat_minor": 5
}
